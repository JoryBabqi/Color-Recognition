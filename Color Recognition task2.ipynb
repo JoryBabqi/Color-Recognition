{
 "cells": [
  {
   "cell_type": "code",
   "execution_count": 3,
   "id": "2a197fec",
   "metadata": {},
   "outputs": [
    {
     "name": "stdout",
     "output_type": "stream",
     "text": [
      "Requirement already satisfied: opencv-python in c:\\users\\joryba\\anaconda3\\lib\\site-packages (4.8.1.78)\n",
      "Requirement already satisfied: numpy in c:\\users\\joryba\\anaconda3\\lib\\site-packages (2.2.6)\n"
     ]
    },
    {
     "name": "stderr",
     "output_type": "stream",
     "text": [
      "\n",
      "[notice] A new release of pip is available: 25.0.1 -> 25.1.1\n",
      "[notice] To update, run: python.exe -m pip install --upgrade pip\n"
     ]
    }
   ],
   "source": [
    "!pip install opencv-python numpy"
   ]
  },
  {
   "cell_type": "code",
   "execution_count": 1,
   "id": "22d64ed9",
   "metadata": {},
   "outputs": [],
   "source": [
    "import cv2\n",
    "import numpy as np"
   ]
  },
  {
   "cell_type": "code",
   "execution_count": null,
   "id": "f57ce9bf",
   "metadata": {},
   "outputs": [],
   "source": [
    "# Function to determine the color name based on HSV values\n",
    "def get_color_name(h, s, v):\n",
    "    if s < 50:\n",
    "        return \"White/Gray/Black\"  \n",
    "    elif h < 10 or h > 170:\n",
    "        return \"Red\"  \n",
    "    elif 10 <= h <= 25:\n",
    "        return \"Orange/Yellow\"  \n",
    "    elif 25 < h <= 35:\n",
    "        return \"Yellow\"  \n",
    "    elif 35 < h <= 85:\n",
    "        return \"Green\"  \n",
    "    elif 85 < h <= 125:\n",
    "        return \"Blue\"  \n",
    "    elif 125 < h <= 170:\n",
    "        return \"Purple\"  \n",
    "    else:\n",
    "        return \"Unknown\"  \n",
    "\n",
    "# Open the default webcam (index 0)\n",
    "cap = cv2.VideoCapture(0)\n",
    "\n",
    "while True:\n",
    "    ret, frame = cap.read()  # Capture a frame from the webcam\n",
    "    if not ret:\n",
    "        break  # Exit if no frame is captured\n",
    "\n",
    "    # Get the center coordinates of the frame\n",
    "    height, width, _ = frame.shape\n",
    "    center_x, center_y = width // 2, height // 2\n",
    "\n",
    "    # Get the color of the pixel at the center of the frame (BGR format)\n",
    "    pixel_center = frame[center_y, center_x]\n",
    "    b, g, r = int(pixel_center[0]), int(pixel_center[1]), int(pixel_center[2])\n",
    "\n",
    "    # Convert the center pixel color from BGR to HSV format\n",
    "    hsv_pixel = cv2.cvtColor(np.uint8([[pixel_center]]), cv2.COLOR_BGR2HSV)\n",
    "    h, s, v = hsv_pixel[0][0]\n",
    "\n",
    "    # Get the color name based on HSV values\n",
    "    color_name = get_color_name(h, s, v)\n",
    "\n",
    "    # Display the color name on the video frame\n",
    "    cv2.putText(frame, f\"Color: {color_name}\", (10, 50), cv2.FONT_HERSHEY_SIMPLEX, 1, (255, 255, 255), 2)\n",
    "    \n",
    "    # Draw a circle at the center point for reference\n",
    "    cv2.circle(frame, (center_x, center_y), 10, (255, 255, 255), 3)\n",
    "\n",
    "    # Show the video feed with the detected color name\n",
    "    cv2.imshow(\"Color Recognition\", frame)\n",
    "\n",
    "    # Exit the loop when 'q' key is pressed\n",
    "    if cv2.waitKey(1) & 0xFF == ord('q'):\n",
    "        break\n",
    "\n",
    "# Release the webcam and close all windows\n",
    "cap.release()\n",
    "cv2.destroyAllWindows()"
   ]
  },
  {
   "cell_type": "code",
   "execution_count": null,
   "id": "19345d4b",
   "metadata": {},
   "outputs": [],
   "source": []
  }
 ],
 "metadata": {
  "kernelspec": {
   "display_name": "Python 3 (ipykernel)",
   "language": "python",
   "name": "python3"
  },
  "language_info": {
   "codemirror_mode": {
    "name": "ipython",
    "version": 3
   },
   "file_extension": ".py",
   "mimetype": "text/x-python",
   "name": "python",
   "nbconvert_exporter": "python",
   "pygments_lexer": "ipython3",
   "version": "3.11.4"
  }
 },
 "nbformat": 4,
 "nbformat_minor": 5
}
